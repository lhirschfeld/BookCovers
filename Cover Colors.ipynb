{
 "cells": [
  {
   "cell_type": "code",
   "execution_count": 58,
   "metadata": {},
   "outputs": [],
   "source": [
    "import requests\n",
    "import os\n",
    "import urllib.request\n",
    "import time\n",
    "import numpy as np\n",
    "import PIL\n",
    "\n",
    "from bs4 import BeautifulSoup\n",
    "from PIL import Image, ImageFilter\n",
    "from io import BytesIO"
   ]
  },
  {
   "cell_type": "markdown",
   "metadata": {},
   "source": [
    "# Gather Data and Form Averages"
   ]
  },
  {
   "cell_type": "code",
   "execution_count": 8,
   "metadata": {},
   "outputs": [],
   "source": [
    "def getGenres(genres, timeout = 3):\n",
    "    webpages = {}\n",
    "    for genre in genres:\n",
    "        fp = urllib.request.urlopen(\"https://www.goodreads.com/shelf/show/\" + genre)\n",
    "        webpages[genre] = fp.read().decode(\"utf8\")\n",
    "        fp.close()\n",
    "        time.sleep(timeout)\n",
    "    return webpages"
   ]
  },
  {
   "cell_type": "code",
   "execution_count": 9,
   "metadata": {},
   "outputs": [],
   "source": [
    "def getBookLinks(page):\n",
    "    soup = BeautifulSoup(page, \"html.parser\")\n",
    "    \n",
    "    bookLinks = set()\n",
    "    for tag in soup.find_all(lambda tag: tag.has_attr('class') and tag[\"class\"] == ['elementList']):\n",
    "        try:\n",
    "            link = tag.div.a[\"href\"]\n",
    "        except AttributeError:\n",
    "            pass\n",
    "\n",
    "        if link[:5] == \"/book\":\n",
    "            bookLinks.add(tag.div.a[\"href\"])\n",
    "    return bookLinks"
   ]
  },
  {
   "cell_type": "code",
   "execution_count": 10,
   "metadata": {},
   "outputs": [],
   "source": [
    "def getImageLinks(bookLinks, timeout = 2):\n",
    "    imageLinks = []\n",
    "    for link in bookLinks:\n",
    "        fp = urllib.request.urlopen(\"https://www.goodreads.com/\" + link)\n",
    "        bookPage = fp.read().decode(\"utf8\")\n",
    "        fp.close()\n",
    "\n",
    "        soup = BeautifulSoup(bookPage, \"html.parser\")\n",
    "        imageLinks.append(soup.find_all(lambda tag: tag.has_attr(\"id\") and tag[\"id\"] == \"coverImage\")[0][\"src\"])\n",
    "        time.sleep(timeout)\n",
    "    return imageLinks"
   ]
  },
  {
   "cell_type": "code",
   "execution_count": 11,
   "metadata": {},
   "outputs": [],
   "source": [
    "def getImages(imageLinks, genre, timeout = 2):\n",
    "    images = []\n",
    "    directory = \"raw/\" + genre\n",
    "    for i in range(len(imageLinks)):\n",
    "        response = requests.get(imageLinks[i])\n",
    "        img = Image.open(BytesIO(response.content)).resize((300, 475))\n",
    "        \n",
    "        if not os.path.exists(directory):\n",
    "            os.makedirs(directory)\n",
    "        \n",
    "        img.save(directory + \"/book\" + str(i) + \".jpg\")\n",
    "        images.append(img)\n",
    "        time.sleep(timeout)\n",
    "    return images\n",
    "        "
   ]
  },
  {
   "cell_type": "code",
   "execution_count": 12,
   "metadata": {},
   "outputs": [],
   "source": [
    "def createAverageImage(images, name):\n",
    "    arr = np.zeros((475, 300, 3), np.float)\n",
    "    size = len(images)\n",
    "    for image in images:\n",
    "        imarr=np.array(image,dtype=np.float)\n",
    "        try:\n",
    "            arr = arr + imarr\n",
    "        except ValueError:\n",
    "            pass\n",
    "    arr = arr/size\n",
    "    \n",
    "    # Round values in array and cast as 8-bit integer\n",
    "    arr=np.array(np.round(arr),dtype=np.uint8)\n",
    "\n",
    "    # Generate, save and preview final image\n",
    "    out=Image.fromarray(arr,mode=\"RGB\")\n",
    "    out.save(\"averages/\" + name + \".jpg\")"
   ]
  },
  {
   "cell_type": "code",
   "execution_count": 13,
   "metadata": {},
   "outputs": [],
   "source": [
    "def createAverages(genres):\n",
    "    webpages = getGenres(genres)\n",
    "    for genre in genres:\n",
    "        page = webpages[genre]\n",
    "        bookLinks = getBookLinks(page)\n",
    "        imageLinks = getImageLinks(bookLinks)\n",
    "        images = getImages(imageLinks, genre)\n",
    "        createAverageImage(images, genre)"
   ]
  },
  {
   "cell_type": "code",
   "execution_count": 14,
   "metadata": {},
   "outputs": [],
   "source": [
    "genres = [\"romance\", \"fantasy\", \"non-fiction\", \"classics\", \"contemporary\", \"science-fiction\", \"horror\", \"thriller\", \"poetry\", \"urban-fantasy\", \"sci-fi-fantasy\", \"ya-fantasy\", \"high-fantasy\", \"epic-fantasy\"]"
   ]
  },
  {
   "cell_type": "code",
   "execution_count": null,
   "metadata": {},
   "outputs": [],
   "source": [
    "createAverages(genres)"
   ]
  },
  {
   "cell_type": "markdown",
   "metadata": {},
   "source": [
    "# Calculate Differences\n"
   ]
  },
  {
   "cell_type": "code",
   "execution_count": 1,
   "metadata": {},
   "outputs": [],
   "source": [
    "def difference(genres):\n",
    "    images = []\n",
    "    for genre in genres:\n",
    "        images.append(Image.open(\"averages/\" + genre + \".jpg\"))\n",
    "\n",
    "    avg = np.zeros((475, 300, 3), np.float)\n",
    "    for image in images:\n",
    "        imarr=np.array(image,dtype=np.float)\n",
    "        avg = avg + imarr\n",
    "    \n",
    "    avg = avg / len(images)\n",
    "    \n",
    "    # Round values in array and cast as 8-bit integer\n",
    "    avg = Image.fromarray(np.array(np.round(avg),dtype=np.uint8))\n",
    "    for i in range(len(images)):\n",
    "        h = images[i].histogram()\n",
    "        sum_ = 0\n",
    "        for j in range(len(h)):\n",
    "            sum_ += (j % 256) * h[j]\n",
    "        print(genres[i], sum_ / (images[i].width * images[i].height * 3))\n",
    "        PIL.ImageChops.subtract(images[i], avg, scale=0.5, offset=128).save(\"differences/\" + genres[i] + \".jpg\")"
   ]
  },
  {
   "cell_type": "code",
   "execution_count": 2,
   "metadata": {},
   "outputs": [
    {
     "ename": "NameError",
     "evalue": "name 'genres' is not defined",
     "output_type": "error",
     "traceback": [
      "\u001b[0;31m---------------------------------------------------------------------------\u001b[0m",
      "\u001b[0;31mNameError\u001b[0m                                 Traceback (most recent call last)",
      "\u001b[0;32m<ipython-input-2-0eb855d79610>\u001b[0m in \u001b[0;36m<module>\u001b[0;34m()\u001b[0m\n\u001b[0;32m----> 1\u001b[0;31m \u001b[0mdifference\u001b[0m\u001b[0;34m(\u001b[0m\u001b[0mgenres\u001b[0m\u001b[0;34m)\u001b[0m\u001b[0;34m\u001b[0m\u001b[0m\n\u001b[0m",
      "\u001b[0;31mNameError\u001b[0m: name 'genres' is not defined"
     ]
    }
   ],
   "source": [
    "difference(genres)"
   ]
  }
 ],
 "metadata": {
  "kernelspec": {
   "display_name": "Python 3",
   "language": "python",
   "name": "python3"
  },
  "language_info": {
   "codemirror_mode": {
    "name": "ipython",
    "version": 3
   },
   "file_extension": ".py",
   "mimetype": "text/x-python",
   "name": "python",
   "nbconvert_exporter": "python",
   "pygments_lexer": "ipython3",
   "version": "3.6.4"
  }
 },
 "nbformat": 4,
 "nbformat_minor": 2
}
